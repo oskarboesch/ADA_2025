{
 "cells": [
  {
   "cell_type": "markdown",
   "metadata": {},
   "source": [
    "# Describing Data\n",
    "\n",
    "### What do you find in this notebook?\n",
    "\n",
    "In this exercise, first, you will familiarize yourself with the Python libraries 'statsmodels' and 'SciPy' that let you do statistical analysis: calculate descriptive statistics, sample datapoints, study relationships between variables, and perform hypothesis testing. Then, second, you will work on a set of exercises that will let you practice your skills.\n",
    "\n",
    "Here we show a couple of examples of how to do common analyses, but there are many more useful probability distributions and statistical tests. In the linked documentation, you will find complete information, and a lot more details compared to what is outlined in this notebook:\n",
    "- [statsmodels](https://www.statsmodels.org/stable/examples/index.html), [more complete documentation](https://www.statsmodels.org/stable/stats.html)\n",
    "- [SciPy](https://docs.scipy.org/doc/scipy/reference/stats.html)"
   ]
  },
  {
   "cell_type": "markdown",
   "metadata": {},
   "source": [
    "# Tutorial: How to use the libraries\n",
    "\n",
    "- You will be working with the full US 2015 census dataset (acs2015_county_data.csv, available at https://www.kaggle.com/muonneutrino/us-census-demographic-data#acs2015_county_data.csv). Here we load it. Take some time to familiarize yourself with the contents. One row represents one county."
   ]
  },
  {
   "cell_type": "code",
   "execution_count": 2,
   "metadata": {
    "tags": []
   },
   "outputs": [],
   "source": [
    "import pandas as pd\n",
    "import numpy as np\n",
    "import matplotlib.pyplot as plt\n",
    "%matplotlib inline\n",
    "import seaborn as sns\n",
    "import math\n",
    "\n",
    "#load the statistical libraries\n",
    "from statsmodels.stats import diagnostic\n",
    "from scipy import stats"
   ]
  },
  {
   "cell_type": "code",
   "execution_count": 3,
   "metadata": {
    "tags": []
   },
   "outputs": [],
   "source": [
    "data_folder = './data/'\n",
    "df = pd.read_csv(data_folder + 'acs2015_county_data.csv')"
   ]
  },
  {
   "cell_type": "code",
   "execution_count": 4,
   "metadata": {},
   "outputs": [
    {
     "data": {
      "text/plain": [
       "Index(['CensusId', 'State', 'County', 'TotalPop', 'Men', 'Women', 'Hispanic',\n",
       "       'White', 'Black', 'Native', 'Asian', 'Pacific', 'Citizen', 'Income',\n",
       "       'IncomeErr', 'IncomePerCap', 'IncomePerCapErr', 'Poverty',\n",
       "       'ChildPoverty', 'Professional', 'Service', 'Office', 'Construction',\n",
       "       'Production', 'Drive', 'Carpool', 'Transit', 'Walk', 'OtherTransp',\n",
       "       'WorkAtHome', 'MeanCommute', 'Employed', 'PrivateWork', 'PublicWork',\n",
       "       'SelfEmployed', 'FamilyWork', 'Unemployment'],\n",
       "      dtype='object')"
      ]
     },
     "execution_count": 4,
     "metadata": {},
     "output_type": "execute_result"
    }
   ],
   "source": [
    "df.columns"
   ]
  },
  {
   "cell_type": "code",
   "execution_count": 5,
   "metadata": {},
   "outputs": [
    {
     "data": {
      "application/vnd.microsoft.datawrangler.viewer.v0+json": {
       "columns": [
        {
         "name": "index",
         "rawType": "int64",
         "type": "integer"
        },
        {
         "name": "CensusId",
         "rawType": "int64",
         "type": "integer"
        },
        {
         "name": "State",
         "rawType": "object",
         "type": "string"
        },
        {
         "name": "County",
         "rawType": "object",
         "type": "string"
        },
        {
         "name": "TotalPop",
         "rawType": "int64",
         "type": "integer"
        },
        {
         "name": "Men",
         "rawType": "int64",
         "type": "integer"
        },
        {
         "name": "Women",
         "rawType": "int64",
         "type": "integer"
        },
        {
         "name": "Hispanic",
         "rawType": "float64",
         "type": "float"
        },
        {
         "name": "White",
         "rawType": "float64",
         "type": "float"
        },
        {
         "name": "Black",
         "rawType": "float64",
         "type": "float"
        },
        {
         "name": "Native",
         "rawType": "float64",
         "type": "float"
        },
        {
         "name": "Asian",
         "rawType": "float64",
         "type": "float"
        },
        {
         "name": "Pacific",
         "rawType": "float64",
         "type": "float"
        },
        {
         "name": "Citizen",
         "rawType": "int64",
         "type": "integer"
        },
        {
         "name": "Income",
         "rawType": "float64",
         "type": "float"
        },
        {
         "name": "IncomeErr",
         "rawType": "float64",
         "type": "float"
        },
        {
         "name": "IncomePerCap",
         "rawType": "int64",
         "type": "integer"
        },
        {
         "name": "IncomePerCapErr",
         "rawType": "int64",
         "type": "integer"
        },
        {
         "name": "Poverty",
         "rawType": "float64",
         "type": "float"
        },
        {
         "name": "ChildPoverty",
         "rawType": "float64",
         "type": "float"
        },
        {
         "name": "Professional",
         "rawType": "float64",
         "type": "float"
        },
        {
         "name": "Service",
         "rawType": "float64",
         "type": "float"
        },
        {
         "name": "Office",
         "rawType": "float64",
         "type": "float"
        },
        {
         "name": "Construction",
         "rawType": "float64",
         "type": "float"
        },
        {
         "name": "Production",
         "rawType": "float64",
         "type": "float"
        },
        {
         "name": "Drive",
         "rawType": "float64",
         "type": "float"
        },
        {
         "name": "Carpool",
         "rawType": "float64",
         "type": "float"
        },
        {
         "name": "Transit",
         "rawType": "float64",
         "type": "float"
        },
        {
         "name": "Walk",
         "rawType": "float64",
         "type": "float"
        },
        {
         "name": "OtherTransp",
         "rawType": "float64",
         "type": "float"
        },
        {
         "name": "WorkAtHome",
         "rawType": "float64",
         "type": "float"
        },
        {
         "name": "MeanCommute",
         "rawType": "float64",
         "type": "float"
        },
        {
         "name": "Employed",
         "rawType": "int64",
         "type": "integer"
        },
        {
         "name": "PrivateWork",
         "rawType": "float64",
         "type": "float"
        },
        {
         "name": "PublicWork",
         "rawType": "float64",
         "type": "float"
        },
        {
         "name": "SelfEmployed",
         "rawType": "float64",
         "type": "float"
        },
        {
         "name": "FamilyWork",
         "rawType": "float64",
         "type": "float"
        },
        {
         "name": "Unemployment",
         "rawType": "float64",
         "type": "float"
        }
       ],
       "ref": "7345643a-7524-433f-afe6-55819c785e86",
       "rows": [
        [
         "291",
         "8093",
         "Colorado",
         "Park",
         "16189",
         "8525",
         "7664",
         "5.7",
         "90.4",
         "0.0",
         "1.1",
         "1.0",
         "0.8",
         "13022",
         "56969.0",
         "5031.0",
         "31734",
         "1737",
         "7.3",
         "8.1",
         "34.4",
         "18.4",
         "22.3",
         "14.7",
         "10.2",
         "72.5",
         "13.5",
         "1.3",
         "1.1",
         "0.5",
         "11.1",
         "42.4",
         "8822",
         "70.4",
         "17.5",
         "10.8",
         "1.2",
         "5.6"
        ],
        [
         "875",
         "19173",
         "Iowa",
         "Taylor",
         "6213",
         "3136",
         "3077",
         "7.5",
         "91.1",
         "0.2",
         "0.1",
         "0.6",
         "0.0",
         "4640",
         "44246.0",
         "2840.0",
         "23821",
         "1035",
         "14.1",
         "17.7",
         "28.2",
         "16.3",
         "16.7",
         "13.0",
         "25.9",
         "76.8",
         "13.7",
         "0.0",
         "3.3",
         "1.7",
         "4.5",
         "20.2",
         "3061",
         "71.0",
         "16.2",
         "12.4",
         "0.3",
         "4.4"
        ],
        [
         "1564",
         "29163",
         "Missouri",
         "Pike",
         "18517",
         "10273",
         "8244",
         "2.1",
         "88.6",
         "6.2",
         "0.3",
         "0.3",
         "0.0",
         "14323",
         "41750.0",
         "2988.0",
         "19005",
         "842",
         "15.3",
         "19.9",
         "27.4",
         "15.6",
         "23.8",
         "16.6",
         "16.6",
         "79.5",
         "10.2",
         "0.2",
         "2.8",
         "1.5",
         "5.7",
         "23.2",
         "7300",
         "78.1",
         "14.4",
         "7.2",
         "0.4",
         "6.5"
        ],
        [
         "2520",
         "47185",
         "Tennessee",
         "White",
         "26252",
         "12845",
         "13407",
         "2.0",
         "94.0",
         "1.7",
         "0.0",
         "0.0",
         "0.0",
         "20334",
         "34901.0",
         "2305.0",
         "17451",
         "1010",
         "19.6",
         "25.2",
         "23.2",
         "19.5",
         "21.6",
         "12.6",
         "23.1",
         "85.7",
         "10.6",
         "0.0",
         "0.7",
         "0.9",
         "2.1",
         "23.8",
         "9769",
         "72.7",
         "17.7",
         "9.4",
         "0.1",
         "10.5"
        ],
        [
         "2469",
         "47083",
         "Tennessee",
         "Houston",
         "8290",
         "4098",
         "4192",
         "2.1",
         "92.6",
         "2.7",
         "0.5",
         "0.2",
         "0.0",
         "6318",
         "39401.0",
         "2406.0",
         "18234",
         "1118",
         "23.1",
         "37.0",
         "20.7",
         "17.8",
         "19.6",
         "18.1",
         "23.9",
         "82.0",
         "11.5",
         "0.3",
         "3.6",
         "1.2",
         "1.3",
         "33.4",
         "2997",
         "66.8",
         "19.2",
         "13.9",
         "0.1",
         "8.1"
        ],
        [
         "1402",
         "28003",
         "Mississippi",
         "Alcorn",
         "37319",
         "18250",
         "19069",
         "3.0",
         "83.2",
         "11.4",
         "0.1",
         "0.3",
         "0.0",
         "27956",
         "36163.0",
         "3135.0",
         "19467",
         "934",
         "21.2",
         "30.6",
         "29.2",
         "18.1",
         "22.3",
         "10.6",
         "19.8",
         "88.2",
         "8.5",
         "0.2",
         "0.8",
         "0.7",
         "1.6",
         "21.6",
         "14784",
         "78.4",
         "14.7",
         "6.8",
         "0.2",
         "9.0"
        ],
        [
         "913",
         "20051",
         "Kansas",
         "Ellis",
         "28993",
         "14452",
         "14541",
         "5.5",
         "90.5",
         "1.1",
         "0.2",
         "1.3",
         "0.2",
         "22266",
         "45579.0",
         "2813.0",
         "26098",
         "1322",
         "15.6",
         "12.7",
         "32.1",
         "18.6",
         "27.2",
         "10.8",
         "11.3",
         "85.5",
         "7.7",
         "0.4",
         "3.2",
         "0.6",
         "2.7",
         "12.7",
         "16045",
         "74.8",
         "18.0",
         "7.0",
         "0.2",
         "4.5"
        ],
        [
         "2558",
         "48071",
         "Texas",
         "Chambers",
         "37251",
         "18691",
         "18560",
         "20.9",
         "68.4",
         "7.9",
         "0.2",
         "1.3",
         "0.0",
         "24045",
         "70544.0",
         "6404.0",
         "30572",
         "2236",
         "10.6",
         "9.7",
         "34.4",
         "10.7",
         "18.9",
         "16.4",
         "19.6",
         "85.4",
         "9.3",
         "0.0",
         "0.7",
         "2.2",
         "2.4",
         "31.0",
         "15166",
         "77.9",
         "15.9",
         "6.1",
         "0.1",
         "7.8"
        ],
        [
         "294",
         "8099",
         "Colorado",
         "Prowers",
         "12235",
         "6137",
         "6098",
         "35.9",
         "61.6",
         "0.4",
         "0.3",
         "0.4",
         "0.0",
         "8087",
         "40179.0",
         "3470.0",
         "20087",
         "1037",
         "19.0",
         "26.7",
         "30.1",
         "24.4",
         "22.4",
         "12.6",
         "10.6",
         "73.8",
         "13.1",
         "0.0",
         "3.9",
         "2.5",
         "6.7",
         "13.2",
         "5488",
         "67.5",
         "24.1",
         "8.2",
         "0.1",
         "9.7"
        ],
        [
         "144",
         "5067",
         "Arkansas",
         "Jackson",
         "17597",
         "8737",
         "8860",
         "2.8",
         "77.6",
         "17.2",
         "0.5",
         "0.2",
         "0.0",
         "13934",
         "31261.0",
         "2306.0",
         "17797",
         "1573",
         "26.8",
         "45.0",
         "22.0",
         "17.3",
         "21.0",
         "13.6",
         "26.1",
         "86.7",
         "8.2",
         "0.1",
         "1.8",
         "0.4",
         "2.7",
         "19.7",
         "5585",
         "75.7",
         "17.8",
         "6.1",
         "0.4",
         "7.9"
        ]
       ],
       "shape": {
        "columns": 37,
        "rows": 10
       }
      },
      "text/html": [
       "<div>\n",
       "<style scoped>\n",
       "    .dataframe tbody tr th:only-of-type {\n",
       "        vertical-align: middle;\n",
       "    }\n",
       "\n",
       "    .dataframe tbody tr th {\n",
       "        vertical-align: top;\n",
       "    }\n",
       "\n",
       "    .dataframe thead th {\n",
       "        text-align: right;\n",
       "    }\n",
       "</style>\n",
       "<table border=\"1\" class=\"dataframe\">\n",
       "  <thead>\n",
       "    <tr style=\"text-align: right;\">\n",
       "      <th></th>\n",
       "      <th>CensusId</th>\n",
       "      <th>State</th>\n",
       "      <th>County</th>\n",
       "      <th>TotalPop</th>\n",
       "      <th>Men</th>\n",
       "      <th>Women</th>\n",
       "      <th>Hispanic</th>\n",
       "      <th>White</th>\n",
       "      <th>Black</th>\n",
       "      <th>Native</th>\n",
       "      <th>...</th>\n",
       "      <th>Walk</th>\n",
       "      <th>OtherTransp</th>\n",
       "      <th>WorkAtHome</th>\n",
       "      <th>MeanCommute</th>\n",
       "      <th>Employed</th>\n",
       "      <th>PrivateWork</th>\n",
       "      <th>PublicWork</th>\n",
       "      <th>SelfEmployed</th>\n",
       "      <th>FamilyWork</th>\n",
       "      <th>Unemployment</th>\n",
       "    </tr>\n",
       "  </thead>\n",
       "  <tbody>\n",
       "    <tr>\n",
       "      <th>291</th>\n",
       "      <td>8093</td>\n",
       "      <td>Colorado</td>\n",
       "      <td>Park</td>\n",
       "      <td>16189</td>\n",
       "      <td>8525</td>\n",
       "      <td>7664</td>\n",
       "      <td>5.7</td>\n",
       "      <td>90.4</td>\n",
       "      <td>0.0</td>\n",
       "      <td>1.1</td>\n",
       "      <td>...</td>\n",
       "      <td>1.1</td>\n",
       "      <td>0.5</td>\n",
       "      <td>11.1</td>\n",
       "      <td>42.4</td>\n",
       "      <td>8822</td>\n",
       "      <td>70.4</td>\n",
       "      <td>17.5</td>\n",
       "      <td>10.8</td>\n",
       "      <td>1.2</td>\n",
       "      <td>5.6</td>\n",
       "    </tr>\n",
       "    <tr>\n",
       "      <th>875</th>\n",
       "      <td>19173</td>\n",
       "      <td>Iowa</td>\n",
       "      <td>Taylor</td>\n",
       "      <td>6213</td>\n",
       "      <td>3136</td>\n",
       "      <td>3077</td>\n",
       "      <td>7.5</td>\n",
       "      <td>91.1</td>\n",
       "      <td>0.2</td>\n",
       "      <td>0.1</td>\n",
       "      <td>...</td>\n",
       "      <td>3.3</td>\n",
       "      <td>1.7</td>\n",
       "      <td>4.5</td>\n",
       "      <td>20.2</td>\n",
       "      <td>3061</td>\n",
       "      <td>71.0</td>\n",
       "      <td>16.2</td>\n",
       "      <td>12.4</td>\n",
       "      <td>0.3</td>\n",
       "      <td>4.4</td>\n",
       "    </tr>\n",
       "    <tr>\n",
       "      <th>1564</th>\n",
       "      <td>29163</td>\n",
       "      <td>Missouri</td>\n",
       "      <td>Pike</td>\n",
       "      <td>18517</td>\n",
       "      <td>10273</td>\n",
       "      <td>8244</td>\n",
       "      <td>2.1</td>\n",
       "      <td>88.6</td>\n",
       "      <td>6.2</td>\n",
       "      <td>0.3</td>\n",
       "      <td>...</td>\n",
       "      <td>2.8</td>\n",
       "      <td>1.5</td>\n",
       "      <td>5.7</td>\n",
       "      <td>23.2</td>\n",
       "      <td>7300</td>\n",
       "      <td>78.1</td>\n",
       "      <td>14.4</td>\n",
       "      <td>7.2</td>\n",
       "      <td>0.4</td>\n",
       "      <td>6.5</td>\n",
       "    </tr>\n",
       "    <tr>\n",
       "      <th>2520</th>\n",
       "      <td>47185</td>\n",
       "      <td>Tennessee</td>\n",
       "      <td>White</td>\n",
       "      <td>26252</td>\n",
       "      <td>12845</td>\n",
       "      <td>13407</td>\n",
       "      <td>2.0</td>\n",
       "      <td>94.0</td>\n",
       "      <td>1.7</td>\n",
       "      <td>0.0</td>\n",
       "      <td>...</td>\n",
       "      <td>0.7</td>\n",
       "      <td>0.9</td>\n",
       "      <td>2.1</td>\n",
       "      <td>23.8</td>\n",
       "      <td>9769</td>\n",
       "      <td>72.7</td>\n",
       "      <td>17.7</td>\n",
       "      <td>9.4</td>\n",
       "      <td>0.1</td>\n",
       "      <td>10.5</td>\n",
       "    </tr>\n",
       "    <tr>\n",
       "      <th>2469</th>\n",
       "      <td>47083</td>\n",
       "      <td>Tennessee</td>\n",
       "      <td>Houston</td>\n",
       "      <td>8290</td>\n",
       "      <td>4098</td>\n",
       "      <td>4192</td>\n",
       "      <td>2.1</td>\n",
       "      <td>92.6</td>\n",
       "      <td>2.7</td>\n",
       "      <td>0.5</td>\n",
       "      <td>...</td>\n",
       "      <td>3.6</td>\n",
       "      <td>1.2</td>\n",
       "      <td>1.3</td>\n",
       "      <td>33.4</td>\n",
       "      <td>2997</td>\n",
       "      <td>66.8</td>\n",
       "      <td>19.2</td>\n",
       "      <td>13.9</td>\n",
       "      <td>0.1</td>\n",
       "      <td>8.1</td>\n",
       "    </tr>\n",
       "    <tr>\n",
       "      <th>1402</th>\n",
       "      <td>28003</td>\n",
       "      <td>Mississippi</td>\n",
       "      <td>Alcorn</td>\n",
       "      <td>37319</td>\n",
       "      <td>18250</td>\n",
       "      <td>19069</td>\n",
       "      <td>3.0</td>\n",
       "      <td>83.2</td>\n",
       "      <td>11.4</td>\n",
       "      <td>0.1</td>\n",
       "      <td>...</td>\n",
       "      <td>0.8</td>\n",
       "      <td>0.7</td>\n",
       "      <td>1.6</td>\n",
       "      <td>21.6</td>\n",
       "      <td>14784</td>\n",
       "      <td>78.4</td>\n",
       "      <td>14.7</td>\n",
       "      <td>6.8</td>\n",
       "      <td>0.2</td>\n",
       "      <td>9.0</td>\n",
       "    </tr>\n",
       "    <tr>\n",
       "      <th>913</th>\n",
       "      <td>20051</td>\n",
       "      <td>Kansas</td>\n",
       "      <td>Ellis</td>\n",
       "      <td>28993</td>\n",
       "      <td>14452</td>\n",
       "      <td>14541</td>\n",
       "      <td>5.5</td>\n",
       "      <td>90.5</td>\n",
       "      <td>1.1</td>\n",
       "      <td>0.2</td>\n",
       "      <td>...</td>\n",
       "      <td>3.2</td>\n",
       "      <td>0.6</td>\n",
       "      <td>2.7</td>\n",
       "      <td>12.7</td>\n",
       "      <td>16045</td>\n",
       "      <td>74.8</td>\n",
       "      <td>18.0</td>\n",
       "      <td>7.0</td>\n",
       "      <td>0.2</td>\n",
       "      <td>4.5</td>\n",
       "    </tr>\n",
       "    <tr>\n",
       "      <th>2558</th>\n",
       "      <td>48071</td>\n",
       "      <td>Texas</td>\n",
       "      <td>Chambers</td>\n",
       "      <td>37251</td>\n",
       "      <td>18691</td>\n",
       "      <td>18560</td>\n",
       "      <td>20.9</td>\n",
       "      <td>68.4</td>\n",
       "      <td>7.9</td>\n",
       "      <td>0.2</td>\n",
       "      <td>...</td>\n",
       "      <td>0.7</td>\n",
       "      <td>2.2</td>\n",
       "      <td>2.4</td>\n",
       "      <td>31.0</td>\n",
       "      <td>15166</td>\n",
       "      <td>77.9</td>\n",
       "      <td>15.9</td>\n",
       "      <td>6.1</td>\n",
       "      <td>0.1</td>\n",
       "      <td>7.8</td>\n",
       "    </tr>\n",
       "    <tr>\n",
       "      <th>294</th>\n",
       "      <td>8099</td>\n",
       "      <td>Colorado</td>\n",
       "      <td>Prowers</td>\n",
       "      <td>12235</td>\n",
       "      <td>6137</td>\n",
       "      <td>6098</td>\n",
       "      <td>35.9</td>\n",
       "      <td>61.6</td>\n",
       "      <td>0.4</td>\n",
       "      <td>0.3</td>\n",
       "      <td>...</td>\n",
       "      <td>3.9</td>\n",
       "      <td>2.5</td>\n",
       "      <td>6.7</td>\n",
       "      <td>13.2</td>\n",
       "      <td>5488</td>\n",
       "      <td>67.5</td>\n",
       "      <td>24.1</td>\n",
       "      <td>8.2</td>\n",
       "      <td>0.1</td>\n",
       "      <td>9.7</td>\n",
       "    </tr>\n",
       "    <tr>\n",
       "      <th>144</th>\n",
       "      <td>5067</td>\n",
       "      <td>Arkansas</td>\n",
       "      <td>Jackson</td>\n",
       "      <td>17597</td>\n",
       "      <td>8737</td>\n",
       "      <td>8860</td>\n",
       "      <td>2.8</td>\n",
       "      <td>77.6</td>\n",
       "      <td>17.2</td>\n",
       "      <td>0.5</td>\n",
       "      <td>...</td>\n",
       "      <td>1.8</td>\n",
       "      <td>0.4</td>\n",
       "      <td>2.7</td>\n",
       "      <td>19.7</td>\n",
       "      <td>5585</td>\n",
       "      <td>75.7</td>\n",
       "      <td>17.8</td>\n",
       "      <td>6.1</td>\n",
       "      <td>0.4</td>\n",
       "      <td>7.9</td>\n",
       "    </tr>\n",
       "  </tbody>\n",
       "</table>\n",
       "<p>10 rows × 37 columns</p>\n",
       "</div>"
      ],
      "text/plain": [
       "      CensusId        State    County  TotalPop    Men  Women  Hispanic  \\\n",
       "291       8093     Colorado      Park     16189   8525   7664       5.7   \n",
       "875      19173         Iowa    Taylor      6213   3136   3077       7.5   \n",
       "1564     29163     Missouri      Pike     18517  10273   8244       2.1   \n",
       "2520     47185    Tennessee     White     26252  12845  13407       2.0   \n",
       "2469     47083    Tennessee   Houston      8290   4098   4192       2.1   \n",
       "1402     28003  Mississippi    Alcorn     37319  18250  19069       3.0   \n",
       "913      20051       Kansas     Ellis     28993  14452  14541       5.5   \n",
       "2558     48071        Texas  Chambers     37251  18691  18560      20.9   \n",
       "294       8099     Colorado   Prowers     12235   6137   6098      35.9   \n",
       "144       5067     Arkansas   Jackson     17597   8737   8860       2.8   \n",
       "\n",
       "      White  Black  Native  ...  Walk  OtherTransp  WorkAtHome  MeanCommute  \\\n",
       "291    90.4    0.0     1.1  ...   1.1          0.5        11.1         42.4   \n",
       "875    91.1    0.2     0.1  ...   3.3          1.7         4.5         20.2   \n",
       "1564   88.6    6.2     0.3  ...   2.8          1.5         5.7         23.2   \n",
       "2520   94.0    1.7     0.0  ...   0.7          0.9         2.1         23.8   \n",
       "2469   92.6    2.7     0.5  ...   3.6          1.2         1.3         33.4   \n",
       "1402   83.2   11.4     0.1  ...   0.8          0.7         1.6         21.6   \n",
       "913    90.5    1.1     0.2  ...   3.2          0.6         2.7         12.7   \n",
       "2558   68.4    7.9     0.2  ...   0.7          2.2         2.4         31.0   \n",
       "294    61.6    0.4     0.3  ...   3.9          2.5         6.7         13.2   \n",
       "144    77.6   17.2     0.5  ...   1.8          0.4         2.7         19.7   \n",
       "\n",
       "      Employed  PrivateWork  PublicWork  SelfEmployed  FamilyWork  \\\n",
       "291       8822         70.4        17.5          10.8         1.2   \n",
       "875       3061         71.0        16.2          12.4         0.3   \n",
       "1564      7300         78.1        14.4           7.2         0.4   \n",
       "2520      9769         72.7        17.7           9.4         0.1   \n",
       "2469      2997         66.8        19.2          13.9         0.1   \n",
       "1402     14784         78.4        14.7           6.8         0.2   \n",
       "913      16045         74.8        18.0           7.0         0.2   \n",
       "2558     15166         77.9        15.9           6.1         0.1   \n",
       "294       5488         67.5        24.1           8.2         0.1   \n",
       "144       5585         75.7        17.8           6.1         0.4   \n",
       "\n",
       "      Unemployment  \n",
       "291            5.6  \n",
       "875            4.4  \n",
       "1564           6.5  \n",
       "2520          10.5  \n",
       "2469           8.1  \n",
       "1402           9.0  \n",
       "913            4.5  \n",
       "2558           7.8  \n",
       "294            9.7  \n",
       "144            7.9  \n",
       "\n",
       "[10 rows x 37 columns]"
      ]
     },
     "execution_count": 5,
     "metadata": {},
     "output_type": "execute_result"
    }
   ],
   "source": [
    "df.sample(10)"
   ]
  },
  {
   "cell_type": "markdown",
   "metadata": {},
   "source": [
    "- We will focus first on income per capita across counties."
   ]
  },
  {
   "cell_type": "code",
   "execution_count": 6,
   "metadata": {},
   "outputs": [
    {
     "data": {
      "text/plain": [
       "<Axes: >"
      ]
     },
     "execution_count": 6,
     "metadata": {},
     "output_type": "execute_result"
    },
    {
     "data": {
      "image/png": "[encoded data removed]",
      "text/plain": [
       "<Figure size 640x480 with 1 Axes>"
      ]
     },
     "metadata": {},
     "output_type": "display_data"
    }
   ],
   "source": [
    "df['IncomePerCap'].hist(bins = 50)"
   ]
  },
  {
   "cell_type": "markdown",
   "metadata": {},
   "source": [
    "### 1. Calculating descriptive statisctics\n",
    "\n",
    "- Let's calculate basic descriptive statistics of the income per capita."
   ]
  },
  {
   "cell_type": "code",
   "execution_count": 7,
   "metadata": {},
   "outputs": [
    {
     "data": {
      "application/vnd.microsoft.datawrangler.viewer.v0+json": {
       "columns": [
        {
         "name": "index",
         "rawType": "object",
         "type": "string"
        },
        {
         "name": "IncomePerCap",
         "rawType": "float64",
         "type": "float"
        }
       ],
       "ref": "84740d77-5362-4cf6-a4e5-7ec26dc8e705",
       "rows": [
        [
         "count",
         "3220.0"
        ],
        [
         "mean",
         "23981.771739130436"
        ],
        [
         "std",
         "6204.3399601295205"
        ],
        [
         "min",
         "5878.0"
        ],
        [
         "25%",
         "20238.5"
        ],
        [
         "50%",
         "23460.0"
        ],
        [
         "75%",
         "27053.25"
        ],
        [
         "max",
         "65600.0"
        ]
       ],
       "shape": {
        "columns": 1,
        "rows": 8
       }
      },
      "text/plain": [
       "count     3220.000000\n",
       "mean     23981.771739\n",
       "std       6204.339960\n",
       "min       5878.000000\n",
       "25%      20238.500000\n",
       "50%      23460.000000\n",
       "75%      27053.250000\n",
       "max      65600.000000\n",
       "Name: IncomePerCap, dtype: float64"
      ]
     },
     "execution_count": 7,
     "metadata": {},
     "output_type": "execute_result"
    }
   ],
   "source": [
    "df['IncomePerCap'].describe()"
   ]
  },
  {
   "cell_type": "markdown",
   "metadata": {},
   "source": [
    "- What distribution does the data come from? Here is how we can test the goodness of the fit."
   ]
  },
  {
   "cell_type": "code",
   "execution_count": 8,
   "metadata": {},
   "outputs": [
    {
     "data": {
      "text/plain": [
       "(np.float64(0.0637621121184162), np.float64(0.0009999999999998899))"
      ]
     },
     "execution_count": 8,
     "metadata": {},
     "output_type": "execute_result"
    }
   ],
   "source": [
    "# does the data come from a normal distrbution?\n",
    "diagnostic.kstest_normal(df['IncomePerCap'].values, dist = 'norm')"
   ]
  },
  {
   "cell_type": "markdown",
   "metadata": {},
   "source": [
    "- p_value < 0.05 -> we can reject the null hypothesis that the data comes from a normal distribution!"
   ]
  },
  {
   "cell_type": "code",
   "execution_count": 9,
   "metadata": {},
   "outputs": [
    {
     "data": {
      "text/plain": [
       "(np.float64(0.433243770582646), np.float64(0.0009999999999998899))"
      ]
     },
     "execution_count": 9,
     "metadata": {},
     "output_type": "execute_result"
    }
   ],
   "source": [
    "#how about exponential?\n",
    "diagnostic.kstest_normal(df['IncomePerCap'].values, dist = 'exp')"
   ]
  },
  {
   "cell_type": "markdown",
   "metadata": {},
   "source": [
    "- p < 0.05 -> not exponential either!"
   ]
  },
  {
   "cell_type": "markdown",
   "metadata": {},
   "source": [
    "### 2. How to sample the data"
   ]
  },
  {
   "cell_type": "markdown",
   "metadata": {},
   "source": [
    "- Often we need to find random samples from the dataset. We can do so conveniently with pandas wrappers."
   ]
  },
  {
   "cell_type": "code",
   "execution_count": 10,
   "metadata": {},
   "outputs": [],
   "source": [
    "#make 10 samples with replacement\n",
    "sample1_counties = df.sample(n = 10, replace = True)\n",
    "\n",
    "#make 10 samples without replacement\n",
    "sample1_counties = df.sample(n = 10, replace = False)\n",
    "\n",
    "#sometimes we want to sample in an ublanaced way, so that we upsample datapoints of certain characteristic,\n",
    "#and downsample the others. this can be acieved with weights parameter\n",
    "#here we sample by upsampling counties with large population\n",
    "sample2_counties = df.sample(n = 10, replace = False, weights = df['TotalPop'])"
   ]
  },
  {
   "cell_type": "code",
   "execution_count": 11,
   "metadata": {},
   "outputs": [
    {
     "name": "stdout",
     "output_type": "stream",
     "text": [
      "51075.3\n",
      "585628.3\n"
     ]
    }
   ],
   "source": [
    "#on avergage, the samples in the sample produce with reveighting now have higher population, as we wanted!\n",
    "print(sample1_counties['TotalPop'].mean())\n",
    "print(sample2_counties['TotalPop'].mean())"
   ]
  },
  {
   "cell_type": "markdown",
   "metadata": {},
   "source": [
    "### 3. Examining relationship between two variables"
   ]
  },
  {
   "cell_type": "markdown",
   "metadata": {},
   "source": [
    "- Is income per capita of a county correlated with the unemployment?"
   ]
  },
  {
   "cell_type": "code",
   "execution_count": 12,
   "metadata": {},
   "outputs": [
    {
     "data": {
      "text/plain": [
       "PearsonRResult(statistic=np.float64(0.2646136320394488), pvalue=np.float64(9.942215354238633e-53))"
      ]
     },
     "execution_count": 12,
     "metadata": {},
     "output_type": "execute_result"
    }
   ],
   "source": [
    "stats.pearsonr(df['IncomePerCap'],df['Employed'])"
   ]
  },
  {
   "cell_type": "markdown",
   "metadata": {},
   "source": [
    "- There is a small (0.26), but significant (p < 0.05) positive correlation."
   ]
  },
  {
   "cell_type": "code",
   "execution_count": 13,
   "metadata": {},
   "outputs": [
    {
     "data": {
      "text/plain": [
       "SignificanceResult(statistic=np.float64(0.30770631560595474), pvalue=np.float64(1.415296431173735e-71))"
      ]
     },
     "execution_count": 13,
     "metadata": {},
     "output_type": "execute_result"
    }
   ],
   "source": [
    "stats.spearmanr(df['IncomePerCap'],df['Employed'])"
   ]
  },
  {
   "cell_type": "markdown",
   "metadata": {},
   "source": [
    "- Spearman rank coorrelation is also significant."
   ]
  },
  {
   "cell_type": "markdown",
   "metadata": {},
   "source": [
    "### 4. Hypothesis testing"
   ]
  },
  {
   "cell_type": "markdown",
   "metadata": {},
   "source": [
    "- Is income per capita higher in New York counties compared to California counties?"
   ]
  },
  {
   "cell_type": "code",
   "execution_count": 14,
   "metadata": {},
   "outputs": [
    {
     "data": {
      "text/plain": [
       "np.float64(28189.75806451613)"
      ]
     },
     "execution_count": 14,
     "metadata": {},
     "output_type": "execute_result"
    }
   ],
   "source": [
    "df.loc[df['State'] == 'New York']['IncomePerCap'].mean()"
   ]
  },
  {
   "cell_type": "code",
   "execution_count": 15,
   "metadata": {},
   "outputs": [
    {
     "data": {
      "text/plain": [
       "np.float64(27902.603448275862)"
      ]
     },
     "execution_count": 15,
     "metadata": {},
     "output_type": "execute_result"
    }
   ],
   "source": [
    "df.loc[df['State'] == 'California']['IncomePerCap'].mean()"
   ]
  },
  {
   "cell_type": "markdown",
   "metadata": {},
   "source": [
    "- We see that there is a ~300$ gap. Quite a lot!\n",
    "- But is it significantly higher? Let's use a t-test. This is a two-sided test for the null hypothesis that the two independent samples have identical average (expected) values. "
   ]
  },
  {
   "cell_type": "code",
   "execution_count": 16,
   "metadata": {},
   "outputs": [
    {
     "data": {
      "text/plain": [
       "TtestResult(statistic=np.float64(0.19788117232375713), pvalue=np.float64(0.8434785239169611), df=np.float64(118.0))"
      ]
     },
     "execution_count": 16,
     "metadata": {},
     "output_type": "execute_result"
    }
   ],
   "source": [
    "stats.ttest_ind(df.loc[df['State'] == 'New York']['IncomePerCap'], df.loc[df['State'] == 'California']['IncomePerCap'])"
   ]
  },
  {
   "cell_type": "markdown",
   "metadata": {},
   "source": [
    "- p is not smaller than 0.05 -> we cannot reject the null hypothesis that the income is the same -> there is no significant difference"
   ]
  },
  {
   "cell_type": "markdown",
   "metadata": {},
   "source": [
    "### 5. How to measure uncertainty\n",
    "- Now we see the importance of mesuring uncertainty and indicating it on data visualizations.\n",
    "- Visual inspection of 95% confidence intervals lets us see that the difference is not significant (the errorbars are overlapping)."
   ]
  },
  {
   "cell_type": "code",
   "execution_count": 17,
   "metadata": {},
   "outputs": [
    {
     "data": {
      "text/plain": [
       "(25000.0, 32000.0)"
      ]
     },
     "execution_count": 17,
     "metadata": {},
     "output_type": "execute_result"
    },
    {
     "data": {
      "image/png": "[encoded data removed]",
      "text/plain": [
       "<Figure size 640x480 with 1 Axes>"
      ]
     },
     "metadata": {},
     "output_type": "display_data"
    }
   ],
   "source": [
    "ax = sns.barplot(x=\"State\", y=\"IncomePerCap\", data=df.loc[df['State'].isin(['New York','California'])])\n",
    "plt.ylim([25000,32000])"
   ]
  },
  {
   "cell_type": "markdown",
   "metadata": {},
   "source": [
    "# Exercise 1: Boosting the economy by incentivizing self-employment\n",
    "\n",
    "Assume the biggest priority of the local government in 2018 is to increase per-capita income. To do so, the officials plan to adopt a strategy for incentivizing self-employment through a series of campaigns, educational programs, and dedicated funds.\n",
    "\n",
    "Since it is unethical and impossible in this setting to run a controlled experiment involving citizens (e.g., fire employees and force them to self-employ), the officials have asked you, the data scientist, to establish the effect of self-employment on the economy, relying on observational data.\n",
    "\n",
    "**A)** Using suitable methods, determine and quantify the dependency between the percentage of self-employed citizens and per capita income across all 3,212 US counties. Do citizens in counties that have a higher percentage of self-employed people earn more per capita?"
   ]
  },
  {
   "cell_type": "code",
   "execution_count": null,
   "metadata": {},
   "outputs": [
    {
     "data": {
      "text/plain": [
       "PearsonRResult(statistic=np.float64(0.08727386609551786), pvalue=np.float64(7.052861196524553e-07))"
      ]
     },
     "execution_count": 18,
     "metadata": {},
     "output_type": "execute_result"
    }
   ],
   "source": [
    "stats.pearsonr(df['IncomePerCap'],df['SelfEmployed'])"
   ]
  },
  {
   "cell_type": "code",
   "execution_count": 19,
   "metadata": {},
   "outputs": [
    {
     "data": {
      "text/plain": [
       "SignificanceResult(statistic=np.float64(0.056413673053189874), pvalue=np.float64(0.0013623847564714516))"
      ]
     },
     "execution_count": 19,
     "metadata": {},
     "output_type": "execute_result"
    }
   ],
   "source": [
    "stats.spearmanr(df['IncomePerCap'], df['SelfEmployed'])"
   ]
  },
  {
   "cell_type": "markdown",
   "metadata": {},
   "source": [
    "**B)** The pilot program will involve all counties within a limited set of three US states. Set A includes Wisconsin, Tennessee, and  Minnesota. Quantify the dependency of per-capita income on self-employment rates across all the counties in set A."
   ]
  },
  {
   "cell_type": "code",
   "execution_count": null,
   "metadata": {},
   "outputs": [
    {
     "data": {
      "text/plain": [
       "PearsonRResult(statistic=np.float64(-0.202293507365215), pvalue=np.float64(0.0011881639322138644))"
      ]
     },
     "execution_count": 23,
     "metadata": {},
     "output_type": "execute_result"
    }
   ],
   "source": [
    "state_a_selection = ['Wisconsin', 'Tennessee', 'Minnesota']\n",
    "\n",
    "a_set = df[df['State'].isin(state_a_selection)]\n",
    "\n",
    "stats.pearsonr(a_set['IncomePerCap'], a_set['SelfEmployed'])"
   ]
  },
  {
   "cell_type": "code",
   "execution_count": 24,
   "metadata": {},
   "outputs": [
    {
     "data": {
      "text/plain": [
       "SignificanceResult(statistic=np.float64(-0.23669790001033852), pvalue=np.float64(0.00014010090313655094))"
      ]
     },
     "execution_count": 24,
     "metadata": {},
     "output_type": "execute_result"
    }
   ],
   "source": [
    "stats.spearmanr(a_set['IncomePerCap'], a_set['SelfEmployed'])\n"
   ]
  },
  {
   "cell_type": "markdown",
   "metadata": {},
   "source": [
    "**C)** In which state within set A is the observed effect of self-employment on per-capita income the strongest?"
   ]
  },
  {
   "cell_type": "code",
   "execution_count": null,
   "metadata": {},
   "outputs": [
    {
     "name": "stdout",
     "output_type": "stream",
     "text": [
      "Analysis for state : Wisconsin\n",
      "PearsonRResult(statistic=np.float64(-0.32905300016378525), pvalue=np.float64(0.004768134887745218))\n",
      "SignificanceResult(statistic=np.float64(-0.4635129104404941), pvalue=np.float64(4.124859155565996e-05))\n",
      "Analysis for state : Tennessee\n",
      "PearsonRResult(statistic=np.float64(-0.23836048684913153), pvalue=np.float64(0.020011631955528172))\n",
      "SignificanceResult(statistic=np.float64(-0.316991392780988), pvalue=np.float64(0.0017487582457931406))\n",
      "Analysis for state : Minnesota\n",
      "PearsonRResult(statistic=np.float64(-0.2538551921654062), pvalue=np.float64(0.01766519930091188))\n",
      "SignificanceResult(statistic=np.float64(-0.21107460598245847), pvalue=np.float64(0.04970805582462062))\n"
     ]
    }
   ],
   "source": [
    "for state in state_a_selection:\n",
    "    selection = df[df['State']==state]\n",
    "    print(f\"Analysis for state : {state}\")\n",
    "    print(stats.pearsonr(selection['IncomePerCap'], selection['SelfEmployed']))\n",
    "    print(stats.spearmanr(selection['IncomePerCap'], selection['SelfEmployed']))\n"
   ]
  },
  {
   "cell_type": "markdown",
   "metadata": {},
   "source": [
    "**D)** Set B includes New Jersey, Kansas, and Rhode Island. Repeat the analysis from steps B and C above, but now for set B. In which of the two sets A and B (if any) would you recommend incentivizing self-employment? Explain your reasoning. Hint: It is useful to add a notion of confidence to your results and explore the data visually."
   ]
  },
  {
   "cell_type": "code",
   "execution_count": 28,
   "metadata": {},
   "outputs": [
    {
     "data": {
      "text/plain": [
       "PearsonRResult(statistic=np.float64(-0.2322214134608569), pvalue=np.float64(0.0076074930428573165))"
      ]
     },
     "execution_count": 28,
     "metadata": {},
     "output_type": "execute_result"
    }
   ],
   "source": [
    "state_b_selection = ['New Jersey', 'Kansas', 'Rhode Island']\n",
    "\n",
    "a_set = df[df['State'].isin(state_b_selection)]\n",
    "\n",
    "stats.pearsonr(a_set['IncomePerCap'], a_set['SelfEmployed'])"
   ]
  },
  {
   "cell_type": "code",
   "execution_count": 29,
   "metadata": {},
   "outputs": [
    {
     "data": {
      "text/plain": [
       "SignificanceResult(statistic=np.float64(-0.16010624610827853), pvalue=np.float64(0.06773890774775308))"
      ]
     },
     "execution_count": 29,
     "metadata": {},
     "output_type": "execute_result"
    }
   ],
   "source": [
    "stats.spearmanr(a_set['IncomePerCap'], a_set['SelfEmployed'])"
   ]
  },
  {
   "cell_type": "code",
   "execution_count": 30,
   "metadata": {},
   "outputs": [
    {
     "name": "stdout",
     "output_type": "stream",
     "text": [
      "Analysis for state : New Jersey\n",
      "PearsonRResult(statistic=np.float64(0.4804478471336282), pvalue=np.float64(0.027488944757806215))\n",
      "SignificanceResult(statistic=np.float64(0.4040346017736601), pvalue=np.float64(0.06929493068926951))\n",
      "Analysis for state : Kansas\n",
      "PearsonRResult(statistic=np.float64(0.2581029971443692), pvalue=np.float64(0.007853351846832411))\n",
      "SignificanceResult(statistic=np.float64(0.28392575483491556), pvalue=np.float64(0.0033332825399419903))\n",
      "Analysis for state : Rhode Island\n",
      "PearsonRResult(statistic=np.float64(0.9021788382149803), pvalue=np.float64(0.0361831020157593))\n",
      "SignificanceResult(statistic=np.float64(0.9999999999999999), pvalue=np.float64(1.4042654220543672e-24))\n"
     ]
    }
   ],
   "source": [
    "for state in state_b_selection:\n",
    "    selection = df[df['State']==state]\n",
    "    print(f\"Analysis for state : {state}\")\n",
    "    print(stats.pearsonr(selection['IncomePerCap'], selection['SelfEmployed']))\n",
    "    print(stats.spearmanr(selection['IncomePerCap'], selection['SelfEmployed']))"
   ]
  },
  {
   "cell_type": "markdown",
   "metadata": {},
   "source": [
    "# Exercise 2. Data visualization and read the stats comprehension and interpretation questions.\n",
    "\n",
    "- As part of the quizes, two homeworks and the final exam, you will be at times asked to interpret your result based on the understanding of underlying concepts. The questions below can help you practice and get a sense of how well you understand the concepts covered in the class so far. Can you answer these questions confidently?"
   ]
  },
  {
   "cell_type": "markdown",
   "metadata": {},
   "source": [
    "### Question 1. The yearly salaries (in thousands of CHF) of 7000 people are summarized in the following box plot. If the 20th percentile of the salaries is 110,000, how many people earn between 110,000 and 114,000?\n",
    "\n",
    "- a) 2100\n",
    "- b) 700\n",
    "- c) 350\n",
    "- d) 70"
   ]
  },
  {
   "cell_type": "markdown",
   "metadata": {},
   "source": [
    "<img src=\"boxplot.png\" style=\"width: 400px;\" align=\"left\"/>"
   ]
  },
  {
   "cell_type": "code",
   "execution_count": 32,
   "metadata": {},
   "outputs": [
    {
     "data": {
      "text/plain": [
       "350.0"
      ]
     },
     "execution_count": 32,
     "metadata": {},
     "output_type": "execute_result"
    }
   ],
   "source": [
    "0.05*7000"
   ]
  },
  {
   "cell_type": "markdown",
   "metadata": {},
   "source": [
    "### Question 2. What visualizations are suitable for getting insights about the distribution of a single continuous variable?\n",
    "\n",
    "- a) Barplot and histogram\n",
    "- b) Boxplot and histogram\n",
    "- c) Scatterplot and boxplot\n",
    "- d) Barplot, boxplot, and histogram"
   ]
  },
  {
   "cell_type": "code",
   "execution_count": 33,
   "metadata": {},
   "outputs": [
    {
     "name": "stdout",
     "output_type": "stream",
     "text": [
      "la réponse b\n"
     ]
    }
   ],
   "source": [
    "print(\"la réponse b\")"
   ]
  },
  {
   "cell_type": "markdown",
   "metadata": {},
   "source": [
    "### Question 3. In a new groundbreaking study, 28 out of 100 patients reported improvements after taking a new medicine. It is known that, when given a placebo, 20% of the patients report feeling better. What is the p-value assuming the null hypothesis that the probability of successful treatment in this groundbreaking study is the same as the probability of reporting feeling better under placebo, according to a one-sided binomial test? Hint: you may use the statsmodels.stats.proportion.binom_test function.\n",
    "\n",
    "- a) 0.00034\n",
    "- b) 0.0034\n",
    "- c) 0.034\n",
    "- d) 0.34"
   ]
  },
  {
   "cell_type": "code",
   "execution_count": 39,
   "metadata": {},
   "outputs": [
    {
     "data": {
      "text/plain": [
       "np.float64(0.03415162963907485)"
      ]
     },
     "execution_count": 39,
     "metadata": {},
     "output_type": "execute_result"
    }
   ],
   "source": [
    "from statsmodels.stats.proportion import binom_test\n",
    "binom_test(28,100,0.2,'larger')"
   ]
  },
  {
   "cell_type": "markdown",
   "metadata": {},
   "source": [
    "### Question 4. The 95% confidence interval of the average height of 1000 people using bootstrap resampling with 10000 bootstrap samples is calculated by:\n",
    "\n",
    "- a) Sampling 1000 height values with replacement and computing the mean. This is repeated 10000 times to create a sorted list of the 10000 means. The CI is defined by the 500th and the 9500th value in sorted order.\n",
    "- b) Sampling 10000 height values without replacement and computing the mean. This is repeated 1000 times to create a sorted list of the 1000 means. The CI is defined by the 25th and the 975th value in sorted order.\n",
    "- c) Sampling 1000 height values with replacement and computing the mean. This is repeated 10000 times to create a sorted list of the 10000 means. The CI is defined by the 250th and the 9750th value in sorted order.\n",
    "- d) Sampling 1000 height values without replacement and computing the mean. This is repeated 10000 times to create a sorted list of the 10000 means. The CI is defined by the 500th and the 9500th value in sorted order.\n",
    "\n",
    "### Implement your bootstrapping function that you will use in the rest of the course. It should take an array and the number of iterations as inputs, and output 95% confidence intervals of the mean."
   ]
  },
  {
   "cell_type": "code",
   "execution_count": 40,
   "metadata": {},
   "outputs": [],
   "source": [
    "def bootstrapping_resample(array, n_iter):\n",
    "    \"\"\"\n",
    "    This function takes an array and runs the number of iterations specified by n_iter and returns a 95[%] confidence interval of the mean.\n",
    "\n",
    "    \"\"\"\n",
    "    means = []\n",
    "    for _ in range(n_iter):\n",
    "        sample = np.random.choice(array, size=len(array), replace=True)\n",
    "        means.append(np.mean(sample))\n",
    "    return np.percentile(means, [2.5, 97.5])"
   ]
  },
  {
   "cell_type": "markdown",
   "metadata": {},
   "source": [
    "### Question 5. A study conducted at EPFL revealed a negative Spearman’s correlation between GPA and entry-level job salary. Which of the following statements is true?\n",
    "\n",
    "- a) There could be a positive Spearman’s correlation between GPA and entry-level job salary in every single department of EPFL.\n",
    "- b) Spearman correlation between GPA and entry-level job salary in every single department has to be positive.\n",
    "- c) Across all levels, as opposed to entry-level only, higher GPA scores are associated with higher job salaries.\n",
    "- d) We can infer that finishing EPFL with a higher GPA causes you to have a lower entry-level job salary."
   ]
  },
  {
   "cell_type": "code",
   "execution_count": 41,
   "metadata": {},
   "outputs": [
    {
     "name": "stdout",
     "output_type": "stream",
     "text": [
      "La réponse a\n"
     ]
    }
   ],
   "source": [
    "print(\"La réponse a\")"
   ]
  },
  {
   "cell_type": "markdown",
   "metadata": {},
   "source": [
    "### Question 6. The average number of requests per page during a day on a large website is 200, while the median is 15. \n",
    "\n",
    "- a) You can assume that the distribution is heavy-tailed.\n",
    "- b) You are dealing with a left-skewed distribution.\n",
    "- c) Half of the pages get more than 200 requests.\n",
    "- d) None of the above."
   ]
  },
  {
   "cell_type": "code",
   "execution_count": 42,
   "metadata": {},
   "outputs": [
    {
     "name": "stdout",
     "output_type": "stream",
     "text": [
      "La réponse a\n"
     ]
    }
   ],
   "source": [
    "print(\"La réponse a\")"
   ]
  }
 ],
 "metadata": {
  "kernelspec": {
   "display_name": ".ada_venv",
   "language": "python",
   "name": "python3"
  },
  "language_info": {
   "codemirror_mode": {
    "name": "ipython",
    "version": 3
   },
   "file_extension": ".py",
   "mimetype": "text/x-python",
   "name": "python",
   "nbconvert_exporter": "python",
   "pygments_lexer": "ipython3",
   "version": "3.9.6"
  },
  "varInspector": {
   "cols": {
    "lenName": 16,
    "lenType": 16,
    "lenVar": 40
   },
   "kernels_config": {
    "python": {
     "delete_cmd_postfix": "",
     "delete_cmd_prefix": "del ",
     "library": "var_list.py",
     "varRefreshCmd": "print(var_dic_list())"
    },
    "r": {
     "delete_cmd_postfix": ") ",
     "delete_cmd_prefix": "rm(",
     "library": "var_list.r",
     "varRefreshCmd": "cat(var_dic_list()) "
    }
   },
   "types_to_exclude": [
    "module",
    "function",
    "builtin_function_or_method",
    "instance",
    "_Feature"
   ],
   "window_display": false
  }
 },
 "nbformat": 4,
 "nbformat_minor": 4
}
