{
 "cells": [
  {
   "cell_type": "markdown",
   "metadata": {},
   "source": [
    "## Data from World Happiness Report\n",
    "\n",
    "The World Happiness Report is an annual publication of the United Nations Sustainable Development Solutions Network. It contains articles, and rankings of national happiness based on respondent ratings of their own lives, which the report also correlates with various life factors.\n",
    "\n",
    "In this notebook we will explore the happiness of different countries and the features associated.\n",
    "The datasets that we will use are available in *Data*: **happiness2020.pkl** and **countries_info.csv**.\n",
    "\n",
    "Although the features are self-explanatory, here a summary: \n",
    "\n",
    "**happiness2020.pkl**\n",
    "* country: *Name of the country*\n",
    "* happiness_score: *Happiness score*\n",
    "* social_support: *Social support (mitigation the effects of inequality)*\n",
    "* healthy_life_expectancy: *Healthy Life Expectancy*\n",
    "* freedom_of_choices: *Freedom to make life choices*\n",
    "* generosity: *Generosity (charity, volunteers)*\n",
    "* perception_of_corruption: *Corruption Perception*\n",
    "* world_region: *Area of the world of the country*\n",
    "\n",
    "**countries_info.csv**\n",
    "* country_name: *Name of the country*\n",
    "* area: *Area in sq mi*\n",
    "* population: *Number of people*\n",
    "* literacy: *Literacy percentage*"
   ]
  },
  {
   "cell_type": "code",
   "execution_count": 1,
   "metadata": {},
   "outputs": [
    {
     "name": "stdout",
     "output_type": "stream",
     "text": [
      "country_name,area,population,literacy\n",
      "afghanistan,647500,31056997,\"36,0\"\n",
      "albania,28748,3581655,\"86,5\"\n",
      "algeria,2381740,32930091,\"70,0\"\n",
      "argentina,2766890,39921833,\"97,1\"\n",
      "armenia,29800,2976372,\"98,6\"\n",
      "australia,7686850,20264082,\"100,0\"\n",
      "austria,83870,8192880,\"98,0\"\n",
      "azerbaijan,86600,7961619,\"97,0\"\n",
      "bahrain,665,698585,\"89,1\"\n"
     ]
    }
   ],
   "source": [
    "!head Data/countries_info.csv"
   ]
  },
  {
   "cell_type": "code",
   "execution_count": 2,
   "metadata": {},
   "outputs": [],
   "source": [
    "import pandas as pd\n",
    "%matplotlib inline\n",
    "\n",
    "DATA_FOLDER = 'Data/'\n",
    "\n",
    "HAPPINESS_DATASET = DATA_FOLDER+\"happiness2020.csv\"\n",
    "COUNTRIES_DATASET = DATA_FOLDER+\"countries_info.csv\""
   ]
  },
  {
   "cell_type": "markdown",
   "metadata": {},
   "source": [
    "## Task 1: Load the data\n",
    "\n",
    "Load the 2 datasets in Pandas dataframes (called *happiness* and *countries*), and show the first rows.\n",
    "\n",
    "\n",
    "**Hint**: Use the correct reader and verify the data has the expected format."
   ]
  },
  {
   "cell_type": "code",
   "execution_count": 60,
   "metadata": {},
   "outputs": [
    {
     "name": "stdout",
     "output_type": "stream",
     "text": [
      "--- Countries Dataset\n",
      "                 area  population  literacy\n",
      "country_name                               \n",
      "afghanistan    647500    31056997      36.0\n",
      "albania         28748     3581655      86.5\n",
      "algeria       2381740    32930091      70.0\n",
      "argentina     2766890    39921833      97.1\n",
      "armenia         29800     2976372      98.6\n",
      "--- Happiness Dataset\n",
      "             happiness_score  social_support  healthy_life_expectancy  \\\n",
      "country                                                                 \n",
      "afghanistan           2.5669        0.470367                52.590000   \n",
      "albania               4.8827        0.671070                68.708138   \n",
      "algeria               5.0051        0.803385                65.905174   \n",
      "argentina             5.9747        0.900568                68.803802   \n",
      "armenia               4.6768        0.757479                66.750656   \n",
      "\n",
      "             freedom_of_choices  generosity  perception_of_corruption  \\\n",
      "country                                                                 \n",
      "afghanistan            0.396573   -0.096429                  0.933687   \n",
      "albania                0.781994   -0.042309                  0.896304   \n",
      "algeria                0.466611   -0.121105                  0.735485   \n",
      "argentina              0.831132   -0.194914                  0.842010   \n",
      "armenia                0.712018   -0.138780                  0.773545   \n",
      "\n",
      "                                   world_region  \n",
      "country                                          \n",
      "afghanistan                          South Asia  \n",
      "albania              Central and Eastern Europe  \n",
      "algeria            Middle East and North Africa  \n",
      "argentina           Latin America and Caribbean  \n",
      "armenia      Commonwealth of Independent States  \n"
     ]
    }
   ],
   "source": [
    "happiness = pd.read_csv(HAPPINESS_DATASET, index_col='country')\n",
    "countries = pd.read_csv(COUNTRIES_DATASET, index_col='country_name')\n",
    "# keep lower_case\n",
    "happiness.index = happiness.index.str.lower()\n",
    "countries.index = countries.index.str.lower()\n",
    "# change literacy to float\n",
    "countries['literacy'] = countries['literacy'].str.replace(',','.').astype(float)\n",
    "print(\"--- Countries Dataset\")\n",
    "print(countries.head())\n",
    "print(\"--- Happiness Dataset\")\n",
    "print(happiness.head())"
   ]
  },
  {
   "cell_type": "markdown",
   "metadata": {},
   "source": [
    "## Task 2: Let's merge the data\n",
    "\n",
    "Create a dataframe called *country_features* by merging *happiness* and *countries*. A row of this dataframe must describe all the features that we have about a country.\n",
    "\n",
    "**Hint**: Verify that all the rows are in the final dataframe."
   ]
  },
  {
   "cell_type": "code",
   "execution_count": 61,
   "metadata": {},
   "outputs": [
    {
     "data": {
      "application/vnd.microsoft.datawrangler.viewer.v0+json": {
       "columns": [
        {
         "name": "country_name",
         "rawType": "object",
         "type": "string"
        },
        {
         "name": "area",
         "rawType": "int64",
         "type": "integer"
        },
        {
         "name": "population",
         "rawType": "int64",
         "type": "integer"
        },
        {
         "name": "literacy",
         "rawType": "float64",
         "type": "float"
        },
        {
         "name": "happiness_score",
         "rawType": "float64",
         "type": "float"
        },
        {
         "name": "social_support",
         "rawType": "float64",
         "type": "float"
        },
        {
         "name": "healthy_life_expectancy",
         "rawType": "float64",
         "type": "float"
        },
        {
         "name": "freedom_of_choices",
         "rawType": "float64",
         "type": "float"
        },
        {
         "name": "generosity",
         "rawType": "float64",
         "type": "float"
        },
        {
         "name": "perception_of_corruption",
         "rawType": "float64",
         "type": "float"
        },
        {
         "name": "world_region",
         "rawType": "object",
         "type": "string"
        }
       ],
       "ref": "34adf9e5-22d9-4516-8a78-874c4d8125d1",
       "rows": [
        [
         "afghanistan",
         "647500",
         "31056997",
         "36.0",
         "2.566900015",
         "0.470366955",
         "52.59000015",
         "0.396573007",
         "-0.0964294",
         "0.933686554",
         "South Asia"
        ],
        [
         "albania",
         "28748",
         "3581655",
         "86.5",
         "4.882699966000001",
         "0.671070457",
         "68.70813751",
         "0.7819942240000001",
         "-0.042309489",
         "0.896303713",
         "Central and Eastern Europe"
        ],
        [
         "algeria",
         "2381740",
         "32930091",
         "70.0",
         "5.005099773",
         "0.8033851390000001",
         "65.90517426",
         "0.4666109089999999",
         "-0.121105164",
         "0.7354851370000001",
         "Middle East and North Africa"
        ],
        [
         "argentina",
         "2766890",
         "39921833",
         "97.1",
         "5.974699974",
         "0.900567949",
         "68.80380249",
         "0.831132412",
         "-0.194913864",
         "0.8420098420000001",
         "Latin America and Caribbean"
        ],
        [
         "armenia",
         "29800",
         "2976372",
         "98.6",
         "4.676799774",
         "0.7574794290000001",
         "66.75065613",
         "0.7120178340000001",
         "-0.13877961",
         "0.7735447879999999",
         "Commonwealth of Independent States"
        ]
       ],
       "shape": {
        "columns": 10,
        "rows": 5
       }
      },
      "text/html": [
       "<div>\n",
       "<style scoped>\n",
       "    .dataframe tbody tr th:only-of-type {\n",
       "        vertical-align: middle;\n",
       "    }\n",
       "\n",
       "    .dataframe tbody tr th {\n",
       "        vertical-align: top;\n",
       "    }\n",
       "\n",
       "    .dataframe thead th {\n",
       "        text-align: right;\n",
       "    }\n",
       "</style>\n",
       "<table border=\"1\" class=\"dataframe\">\n",
       "  <thead>\n",
       "    <tr style=\"text-align: right;\">\n",
       "      <th></th>\n",
       "      <th>area</th>\n",
       "      <th>population</th>\n",
       "      <th>literacy</th>\n",
       "      <th>happiness_score</th>\n",
       "      <th>social_support</th>\n",
       "      <th>healthy_life_expectancy</th>\n",
       "      <th>freedom_of_choices</th>\n",
       "      <th>generosity</th>\n",
       "      <th>perception_of_corruption</th>\n",
       "      <th>world_region</th>\n",
       "    </tr>\n",
       "    <tr>\n",
       "      <th>country_name</th>\n",
       "      <th></th>\n",
       "      <th></th>\n",
       "      <th></th>\n",
       "      <th></th>\n",
       "      <th></th>\n",
       "      <th></th>\n",
       "      <th></th>\n",
       "      <th></th>\n",
       "      <th></th>\n",
       "      <th></th>\n",
       "    </tr>\n",
       "  </thead>\n",
       "  <tbody>\n",
       "    <tr>\n",
       "      <th>afghanistan</th>\n",
       "      <td>647500</td>\n",
       "      <td>31056997</td>\n",
       "      <td>36.0</td>\n",
       "      <td>2.5669</td>\n",
       "      <td>0.470367</td>\n",
       "      <td>52.590000</td>\n",
       "      <td>0.396573</td>\n",
       "      <td>-0.096429</td>\n",
       "      <td>0.933687</td>\n",
       "      <td>South Asia</td>\n",
       "    </tr>\n",
       "    <tr>\n",
       "      <th>albania</th>\n",
       "      <td>28748</td>\n",
       "      <td>3581655</td>\n",
       "      <td>86.5</td>\n",
       "      <td>4.8827</td>\n",
       "      <td>0.671070</td>\n",
       "      <td>68.708138</td>\n",
       "      <td>0.781994</td>\n",
       "      <td>-0.042309</td>\n",
       "      <td>0.896304</td>\n",
       "      <td>Central and Eastern Europe</td>\n",
       "    </tr>\n",
       "    <tr>\n",
       "      <th>algeria</th>\n",
       "      <td>2381740</td>\n",
       "      <td>32930091</td>\n",
       "      <td>70.0</td>\n",
       "      <td>5.0051</td>\n",
       "      <td>0.803385</td>\n",
       "      <td>65.905174</td>\n",
       "      <td>0.466611</td>\n",
       "      <td>-0.121105</td>\n",
       "      <td>0.735485</td>\n",
       "      <td>Middle East and North Africa</td>\n",
       "    </tr>\n",
       "    <tr>\n",
       "      <th>argentina</th>\n",
       "      <td>2766890</td>\n",
       "      <td>39921833</td>\n",
       "      <td>97.1</td>\n",
       "      <td>5.9747</td>\n",
       "      <td>0.900568</td>\n",
       "      <td>68.803802</td>\n",
       "      <td>0.831132</td>\n",
       "      <td>-0.194914</td>\n",
       "      <td>0.842010</td>\n",
       "      <td>Latin America and Caribbean</td>\n",
       "    </tr>\n",
       "    <tr>\n",
       "      <th>armenia</th>\n",
       "      <td>29800</td>\n",
       "      <td>2976372</td>\n",
       "      <td>98.6</td>\n",
       "      <td>4.6768</td>\n",
       "      <td>0.757479</td>\n",
       "      <td>66.750656</td>\n",
       "      <td>0.712018</td>\n",
       "      <td>-0.138780</td>\n",
       "      <td>0.773545</td>\n",
       "      <td>Commonwealth of Independent States</td>\n",
       "    </tr>\n",
       "  </tbody>\n",
       "</table>\n",
       "</div>"
      ],
      "text/plain": [
       "                 area  population  literacy  happiness_score  social_support  \\\n",
       "country_name                                                                   \n",
       "afghanistan    647500    31056997      36.0           2.5669        0.470367   \n",
       "albania         28748     3581655      86.5           4.8827        0.671070   \n",
       "algeria       2381740    32930091      70.0           5.0051        0.803385   \n",
       "argentina     2766890    39921833      97.1           5.9747        0.900568   \n",
       "armenia         29800     2976372      98.6           4.6768        0.757479   \n",
       "\n",
       "              healthy_life_expectancy  freedom_of_choices  generosity  \\\n",
       "country_name                                                            \n",
       "afghanistan                 52.590000            0.396573   -0.096429   \n",
       "albania                     68.708138            0.781994   -0.042309   \n",
       "algeria                     65.905174            0.466611   -0.121105   \n",
       "argentina                   68.803802            0.831132   -0.194914   \n",
       "armenia                     66.750656            0.712018   -0.138780   \n",
       "\n",
       "              perception_of_corruption                        world_region  \n",
       "country_name                                                                \n",
       "afghanistan                   0.933687                          South Asia  \n",
       "albania                       0.896304          Central and Eastern Europe  \n",
       "algeria                       0.735485        Middle East and North Africa  \n",
       "argentina                     0.842010         Latin America and Caribbean  \n",
       "armenia                       0.773545  Commonwealth of Independent States  "
      ]
     },
     "execution_count": 61,
     "metadata": {},
     "output_type": "execute_result"
    }
   ],
   "source": [
    "country_features = pd.merge(countries, happiness, 'inner', left_index=True, right_index=True)\n",
    "country_features.head()"
   ]
  },
  {
   "cell_type": "markdown",
   "metadata": {},
   "source": [
    "## Task 3: Where are people happier?\n",
    "\n",
    "Print the top 10 countries based on their happiness score (higher is better)."
   ]
  },
  {
   "cell_type": "code",
   "execution_count": 62,
   "metadata": {},
   "outputs": [
    {
     "data": {
      "text/plain": [
       "Index(['finland', 'denmark', 'switzerland', 'iceland', 'norway', 'netherlands',\n",
       "       'sweden', 'new zealand', 'austria', 'luxembourg'],\n",
       "      dtype='object', name='country_name')"
      ]
     },
     "execution_count": 62,
     "metadata": {},
     "output_type": "execute_result"
    }
   ],
   "source": [
    "country_features['happiness_score'].sort_values(ascending=False).head(10).index"
   ]
  },
  {
   "cell_type": "markdown",
   "metadata": {},
   "source": [
    "We are interested to know in what world region people are happier. \n",
    "\n",
    "Create and print a dataframe with the (1) average happiness score and (2) the number of contries for each world region.\n",
    "Sort the result to show the happiness ranking."
   ]
  },
  {
   "cell_type": "code",
   "execution_count": 63,
   "metadata": {},
   "outputs": [
    {
     "data": {
      "application/vnd.microsoft.datawrangler.viewer.v0+json": {
       "columns": [
        {
         "name": "world_region",
         "rawType": "object",
         "type": "string"
        },
        {
         "name": "average_happiness",
         "rawType": "float64",
         "type": "float"
        },
        {
         "name": "count",
         "rawType": "int64",
         "type": "integer"
        }
       ],
       "ref": "62718a50-d2fc-4c00-b572-a655dd6788eb",
       "rows": [
        [
         "North America and ANZ",
         "7.1735249757499995",
         "4"
        ],
        [
         "Western Europe",
         "6.96740498545",
         "20"
        ],
        [
         "Latin America and Caribbean",
         "5.9712800025999995",
         "20"
        ],
        [
         "Central and Eastern Europe",
         "5.891392878071429",
         "14"
        ],
        [
         "Southeast Asia",
         "5.517787516125001",
         "8"
        ],
        [
         "East Asia",
         "5.483633359333333",
         "3"
        ],
        [
         "Commonwealth of Independent States",
         "5.358341614416666",
         "12"
        ],
        [
         "Middle East and North Africa",
         "5.2693062723125",
         "16"
        ],
        [
         "Sub-Saharan Africa",
         "4.3938562423125",
         "32"
        ],
        [
         "South Asia",
         "4.355083266833334",
         "6"
        ]
       ],
       "shape": {
        "columns": 2,
        "rows": 10
       }
      },
      "text/html": [
       "<div>\n",
       "<style scoped>\n",
       "    .dataframe tbody tr th:only-of-type {\n",
       "        vertical-align: middle;\n",
       "    }\n",
       "\n",
       "    .dataframe tbody tr th {\n",
       "        vertical-align: top;\n",
       "    }\n",
       "\n",
       "    .dataframe thead th {\n",
       "        text-align: right;\n",
       "    }\n",
       "</style>\n",
       "<table border=\"1\" class=\"dataframe\">\n",
       "  <thead>\n",
       "    <tr style=\"text-align: right;\">\n",
       "      <th></th>\n",
       "      <th>average_happiness</th>\n",
       "      <th>count</th>\n",
       "    </tr>\n",
       "    <tr>\n",
       "      <th>world_region</th>\n",
       "      <th></th>\n",
       "      <th></th>\n",
       "    </tr>\n",
       "  </thead>\n",
       "  <tbody>\n",
       "    <tr>\n",
       "      <th>North America and ANZ</th>\n",
       "      <td>7.173525</td>\n",
       "      <td>4</td>\n",
       "    </tr>\n",
       "    <tr>\n",
       "      <th>Western Europe</th>\n",
       "      <td>6.967405</td>\n",
       "      <td>20</td>\n",
       "    </tr>\n",
       "    <tr>\n",
       "      <th>Latin America and Caribbean</th>\n",
       "      <td>5.971280</td>\n",
       "      <td>20</td>\n",
       "    </tr>\n",
       "    <tr>\n",
       "      <th>Central and Eastern Europe</th>\n",
       "      <td>5.891393</td>\n",
       "      <td>14</td>\n",
       "    </tr>\n",
       "    <tr>\n",
       "      <th>Southeast Asia</th>\n",
       "      <td>5.517788</td>\n",
       "      <td>8</td>\n",
       "    </tr>\n",
       "    <tr>\n",
       "      <th>East Asia</th>\n",
       "      <td>5.483633</td>\n",
       "      <td>3</td>\n",
       "    </tr>\n",
       "    <tr>\n",
       "      <th>Commonwealth of Independent States</th>\n",
       "      <td>5.358342</td>\n",
       "      <td>12</td>\n",
       "    </tr>\n",
       "    <tr>\n",
       "      <th>Middle East and North Africa</th>\n",
       "      <td>5.269306</td>\n",
       "      <td>16</td>\n",
       "    </tr>\n",
       "    <tr>\n",
       "      <th>Sub-Saharan Africa</th>\n",
       "      <td>4.393856</td>\n",
       "      <td>32</td>\n",
       "    </tr>\n",
       "    <tr>\n",
       "      <th>South Asia</th>\n",
       "      <td>4.355083</td>\n",
       "      <td>6</td>\n",
       "    </tr>\n",
       "  </tbody>\n",
       "</table>\n",
       "</div>"
      ],
      "text/plain": [
       "                                    average_happiness  count\n",
       "world_region                                                \n",
       "North America and ANZ                        7.173525      4\n",
       "Western Europe                               6.967405     20\n",
       "Latin America and Caribbean                  5.971280     20\n",
       "Central and Eastern Europe                   5.891393     14\n",
       "Southeast Asia                               5.517788      8\n",
       "East Asia                                    5.483633      3\n",
       "Commonwealth of Independent States           5.358342     12\n",
       "Middle East and North Africa                 5.269306     16\n",
       "Sub-Saharan Africa                           4.393856     32\n",
       "South Asia                                   4.355083      6"
      ]
     },
     "execution_count": 63,
     "metadata": {},
     "output_type": "execute_result"
    }
   ],
   "source": [
    "country_features.groupby('world_region').agg(average_happiness=('happiness_score', 'mean'), count=('happiness_score', 'count')).sort_values(by='average_happiness', ascending=False)"
   ]
  },
  {
   "cell_type": "markdown",
   "metadata": {},
   "source": [
    "The first region has only a few countries! What are them and what is their score?"
   ]
  },
  {
   "cell_type": "code",
   "execution_count": 64,
   "metadata": {},
   "outputs": [
    {
     "data": {
      "text/plain": [
       "Index(['australia', 'canada', 'new zealand', 'united states'], dtype='object', name='country_name')"
      ]
     },
     "execution_count": 64,
     "metadata": {},
     "output_type": "execute_result"
    }
   ],
   "source": [
    "country_features.index[country_features['world_region']=='North America and ANZ']"
   ]
  },
  {
   "cell_type": "markdown",
   "metadata": {},
   "source": [
    "## Task 4: How literate is the world?\n",
    "\n",
    "Print the names of the countries with a level of literacy of 100%. \n",
    "\n",
    "For each country, print the name and the world region in the format: *{region name} - {country name} ({happiness score})*"
   ]
  },
  {
   "cell_type": "code",
   "execution_count": 75,
   "metadata": {},
   "outputs": [
    {
     "name": "stdout",
     "output_type": "stream",
     "text": [
      "North America and ANZ - australia (7.222799778)\n",
      "Western Europe - denmark (7.645599842)\n",
      "Western Europe - finland (7.808700085)\n",
      "Western Europe - luxembourg (7.237500191)\n",
      "Western Europe - norway (7.487999916000001)\n"
     ]
    }
   ],
   "source": [
    "for country_name, row in country_features.query('literacy == 100.0').iterrows():\n",
    "    print(f\"{row['world_region']} - {country_name} ({row['happiness_score']})\")"
   ]
  },
  {
   "cell_type": "markdown",
   "metadata": {},
   "source": [
    "What is the global average?"
   ]
  },
  {
   "cell_type": "code",
   "execution_count": 76,
   "metadata": {},
   "outputs": [
    {
     "data": {
      "text/plain": [
       "np.float64(81.85112781954888)"
      ]
     },
     "execution_count": 76,
     "metadata": {},
     "output_type": "execute_result"
    }
   ],
   "source": [
    "country_features['literacy'].mean()"
   ]
  },
  {
   "cell_type": "markdown",
   "metadata": {},
   "source": [
    "Calculate the proportion of countries with a literacy level below 50%. Print the value in percentage, formatted with 2 decimals."
   ]
  },
  {
   "cell_type": "code",
   "execution_count": 83,
   "metadata": {},
   "outputs": [
    {
     "name": "stdout",
     "output_type": "stream",
     "text": [
      "11.85%\n"
     ]
    }
   ],
   "source": [
    "print(f\"{len(country_features.query('literacy < 50.0'))/len(country_features)*100:.2f}%\")"
   ]
  },
  {
   "cell_type": "markdown",
   "metadata": {},
   "source": [
    "Print the raw number and the percentage of world population that is illiterate."
   ]
  },
  {
   "cell_type": "code",
   "execution_count": 90,
   "metadata": {},
   "outputs": [
    {
     "name": "stdout",
     "output_type": "stream",
     "text": [
      "Number of illterate population in the world : 1249372988.1030002 or 20.33%\n"
     ]
    }
   ],
   "source": [
    "print(f\"Number of illterate population in the world : {(country_features['population']*(100-country_features['literacy'])/100).sum()} or {(country_features['population']*(100-country_features['literacy'])/100).sum()/country_features['population'].sum()*100:.2f}%\")"
   ]
  },
  {
   "cell_type": "markdown",
   "metadata": {},
   "source": [
    "## Task 5: Population density\n",
    "\n",
    "Add to the dataframe a new field called *population_density* computed by dividing *population* by *area*."
   ]
  },
  {
   "cell_type": "code",
   "execution_count": 91,
   "metadata": {},
   "outputs": [],
   "source": [
    "country_features['population_density'] = country_features['population']/country_features['area']"
   ]
  },
  {
   "cell_type": "markdown",
   "metadata": {},
   "source": [
    "What is the happiness score of the 3 countries with the lowest population density?"
   ]
  },
  {
   "cell_type": "code",
   "execution_count": 93,
   "metadata": {},
   "outputs": [
    {
     "data": {
      "application/vnd.microsoft.datawrangler.viewer.v0+json": {
       "columns": [
        {
         "name": "country_name",
         "rawType": "object",
         "type": "string"
        },
        {
         "name": "happiness_score",
         "rawType": "float64",
         "type": "float"
        }
       ],
       "ref": "880a3b1d-94e5-4220-949c-a0b48709caad",
       "rows": [
        [
         "mongolia",
         "5.456200123"
        ],
        [
         "australia",
         "7.222799778"
        ],
        [
         "botswana",
         "3.478899956"
        ]
       ],
       "shape": {
        "columns": 1,
        "rows": 3
       }
      },
      "text/plain": [
       "country_name\n",
       "mongolia     5.4562\n",
       "australia    7.2228\n",
       "botswana     3.4789\n",
       "Name: happiness_score, dtype: float64"
      ]
     },
     "execution_count": 93,
     "metadata": {},
     "output_type": "execute_result"
    }
   ],
   "source": [
    "# Write your code here\n",
    "country_features.sort_values(by='population_density')['happiness_score'].head(3)"
   ]
  },
  {
   "cell_type": "markdown",
   "metadata": {},
   "source": [
    "## Task 6: Healty and happy?\n",
    "\n",
    "Plot in a scatter plot the happiness score (x) and healty life expectancy (y)."
   ]
  },
  {
   "cell_type": "code",
   "execution_count": 100,
   "metadata": {},
   "outputs": [
    {
     "data": {
      "text/plain": [
       "<Axes: xlabel='happiness_score', ylabel='healthy_life_expectancy'>"
      ]
     },
     "execution_count": 100,
     "metadata": {},
     "output_type": "execute_result"
    },
    {
     "data": {
      "image/png": "[encoded data removed]",
      "text/plain": [
       "<Figure size 640x480 with 1 Axes>"
      ]
     },
     "metadata": {},
     "output_type": "display_data"
    }
   ],
   "source": [
    "country_features.plot(x='happiness_score', y='healthy_life_expectancy', kind='scatter')"
   ]
  },
  {
   "cell_type": "markdown",
   "metadata": {},
   "source": [
    "Feel free to continue the exploration of the dataset! We'll release the solutions next week.\n",
    "\n",
    "----\n",
    "Enjoy EPFL and be happy, next year Switzerland must be #1."
   ]
  }
 ],
 "metadata": {
  "kernelspec": {
   "display_name": ".ada_venv",
   "language": "python",
   "name": "python3"
  },
  "language_info": {
   "codemirror_mode": {
    "name": "ipython",
    "version": 3
   },
   "file_extension": ".py",
   "mimetype": "text/x-python",
   "name": "python",
   "nbconvert_exporter": "python",
   "pygments_lexer": "ipython3",
   "version": "3.9.6"
  }
 },
 "nbformat": 4,
 "nbformat_minor": 4
}
